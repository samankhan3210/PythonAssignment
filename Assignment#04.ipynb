{
 "cells": [
  {
   "cell_type": "code",
   "execution_count": 3,
   "id": "ca1b7450",
   "metadata": {},
   "outputs": [
    {
     "name": "stdout",
     "output_type": "stream",
     "text": [
      "Welcome to Python Calculator\n",
      "1. Addition\n",
      "2. Subtraction\n",
      "3. Multiplication\n",
      "4. Division\n",
      "5. Power\n",
      "Enter the number of respective operation that you want to perform (for eg: '1') : 4\n",
      "Enter first number : 24\n",
      "Enter second number : 0\n",
      "Error denominator cannot be 0\n",
      "Enter a new denominator : 2\n",
      "Result =  12.0\n"
     ]
    }
   ],
   "source": [
    "print(\"Welcome to Python Calculator\")\n",
    "print(\"1. Addition\")\n",
    "print(\"2. Subtraction\")\n",
    "print(\"3. Multiplication\")\n",
    "print(\"4. Division\")\n",
    "print(\"5. Power\")\n",
    "ch = int(input(\"Enter the number of respective operation that you want to perform (for eg: '1') : \"))\n",
    "if (ch >= 1 and ch <=4):\n",
    "    num1 = float(input(\"Enter first number : \"))\n",
    "    num2 = float(input(\"Enter second number : \"))\n",
    "    if ch == 1:\n",
    "        res = num1 + num2\n",
    "        \n",
    "    elif ch == 2:\n",
    "        res = num1 - num2\n",
    "        \n",
    "    elif ch == 3:\n",
    "        res = num1 * num2\n",
    "        \n",
    "    elif ch == 4:\n",
    "        while num2 == 0:\n",
    "            print(\"Error denominator cannot be 0\")\n",
    "            num2 = float(input(\"Enter a new denominator : \"))\n",
    "            \n",
    "        res = num1 / num2;\n",
    "        \n",
    "    print(\"Result = \",res)\n",
    "    \n",
    "elif ch == 5:\n",
    "    b = float(input(\"Enter base : \"))\n",
    "    ex = int(input(\"Enter power : \"))\n",
    "    res = pow(b,ex)\n",
    "    print(\"Result = \",res)\n",
    "    \n",
    "else:\n",
    "    print(\"Invalid number\")\n",
    "    "
   ]
  },
  {
   "cell_type": "code",
   "execution_count": 52,
   "id": "d2c5af12",
   "metadata": {},
   "outputs": [
    {
     "name": "stdout",
     "output_type": "stream",
     "text": [
      "Numeric value exists in the list\n"
     ]
    }
   ],
   "source": [
    "ch = 0\n",
    "lst = ['saman','khan',21]\n",
    "for item in lst:\n",
    "    if (type(item) is int) or (type(item) is float):\n",
    "        ch = 1;\n",
    "        break;\n",
    "      \n",
    "    \n",
    "if ch == 1:\n",
    "    print(\"Numeric value exists in the list\")\n",
    "    \n",
    "else:\n",
    "    print(\"No numeric value exist in the list\")"
   ]
  },
  {
   "cell_type": "code",
   "execution_count": 23,
   "id": "60d0c93f",
   "metadata": {},
   "outputs": [
    {
     "name": "stdout",
     "output_type": "stream",
     "text": [
      "{'first_name': 'Saman', 'last_name': 'Khan'}\n",
      "{'first_name': 'Saman', 'last_name': 'Khan', 'age': 21}\n"
     ]
    }
   ],
   "source": [
    "dic = {'first_name' : 'Saman', 'last_name' : 'Khan'}\n",
    "print(dic)\n",
    "dic.update({'age':21})\n",
    "print(dic)"
   ]
  },
  {
   "cell_type": "code",
   "execution_count": 54,
   "id": "fa917df1",
   "metadata": {},
   "outputs": [
    {
     "name": "stdout",
     "output_type": "stream",
     "text": [
      "Sum :  10.2\n"
     ]
    }
   ],
   "source": [
    "dic = {'val1' : 1, 'val2' : 2.2, 'val3' : 3,'val4' : 4, 'val5' : 'saman'}\n",
    "add = 0\n",
    "for i in dic:\n",
    "    if (type(dic[i]) is int) or (type(dic[i]) is float):\n",
    "         add = add + dic[i];\n",
    "\n",
    "print(\"Sum : \", add)"
   ]
  },
  {
   "cell_type": "code",
   "execution_count": 55,
   "id": "27e8831e",
   "metadata": {},
   "outputs": [
    {
     "name": "stdout",
     "output_type": "stream",
     "text": [
      "Duplicate values are : \n",
      "1\n",
      "2\n",
      "3\n"
     ]
    }
   ],
   "source": [
    "lst1 = [1,2,3,1,4,5,2,6,7,3]\n",
    "lst2 = []\n",
    "print(\"Duplicate values are : \")\n",
    "for i in lst1:\n",
    "    if i not in lst2:\n",
    "        lst2.append(i)\n",
    "    else:\n",
    "        print(i)"
   ]
  },
  {
   "cell_type": "code",
   "execution_count": 57,
   "id": "258c0425",
   "metadata": {},
   "outputs": [
    {
     "name": "stdout",
     "output_type": "stream",
     "text": [
      "Enter the key whose existance you want to check : 2\n",
      "Key is present in the dictionary\n"
     ]
    }
   ],
   "source": [
    "dic = {1:'val1', 2:'val2', 3:'val3'}\n",
    "ch = int(input('Enter the key whose existance you want to check : '))\n",
    "if ch in dic:\n",
    "    print('Key is present in the dictionary')\n",
    "else:\n",
    "    print('Key is not present in the dictionary')"
   ]
  },
  {
   "cell_type": "code",
   "execution_count": null,
   "id": "d64fb0c3",
   "metadata": {},
   "outputs": [],
   "source": []
  }
 ],
 "metadata": {
  "kernelspec": {
   "display_name": "Python 3",
   "language": "python",
   "name": "python3"
  },
  "language_info": {
   "codemirror_mode": {
    "name": "ipython",
    "version": 3
   },
   "file_extension": ".py",
   "mimetype": "text/x-python",
   "name": "python",
   "nbconvert_exporter": "python",
   "pygments_lexer": "ipython3",
   "version": "3.8.8"
  }
 },
 "nbformat": 4,
 "nbformat_minor": 5
}
