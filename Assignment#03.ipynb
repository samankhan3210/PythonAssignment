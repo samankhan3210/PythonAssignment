{
 "cells": [
  {
   "cell_type": "code",
   "execution_count": 5,
   "id": "6a4f034e",
   "metadata": {},
   "outputs": [
    {
     "name": "stdout",
     "output_type": "stream",
     "text": [
      "Twinkle, twinkle, little star,\n",
      "How I wonder what you are!\n",
      "Up above the world so high,\n",
      "Like a diamond in the sky.\n",
      "\n",
      "Twinkle, twinkle, little star,\n",
      "How I wonder what you are\n"
     ]
    }
   ],
   "source": [
    "#Question:1\n",
    "print('''Twinkle, twinkle, little star,\n",
    "How I wonder what you are!\n",
    "Up above the world so high,\n",
    "Like a diamond in the sky.\n",
    "\n",
    "Twinkle, twinkle, little star,\n",
    "How I wonder what you are''');"
   ]
  },
  {
   "cell_type": "code",
   "execution_count": 6,
   "id": "d8bed219",
   "metadata": {},
   "outputs": [
    {
     "name": "stdout",
     "output_type": "stream",
     "text": [
      "Python version:  3.8.8 (default, Apr 13 2021, 15:08:03) [MSC v.1916 64 bit (AMD64)]\n",
      "Version info:  sys.version_info(major=3, minor=8, micro=8, releaselevel='final', serial=0)\n"
     ]
    }
   ],
   "source": [
    "#Write a Python program to get the Python version you are using\n",
    "import sys\n",
    "print(\"Python version: \",sys.version)\n",
    "print(\"Version info: \",sys.version_info)"
   ]
  },
  {
   "cell_type": "code",
   "execution_count": 7,
   "id": "7e115053",
   "metadata": {},
   "outputs": [
    {
     "name": "stdout",
     "output_type": "stream",
     "text": [
      "Current date and time :  2021-10-22 15:57:38\n"
     ]
    }
   ],
   "source": [
    "#Write a Python program to display the current date and time.\n",
    "import datetime\n",
    "now = datetime.datetime.now()\n",
    "print (\"Current date and time : \",now.strftime(\"%Y-%m-%d %H:%M:%S\"))"
   ]
  },
  {
   "cell_type": "code",
   "execution_count": 9,
   "id": "fc9bac16",
   "metadata": {},
   "outputs": [
    {
     "name": "stdout",
     "output_type": "stream",
     "text": [
      "Enter the radius of the circle? 5\n",
      "Area of the circle =  78.53981633974483\n"
     ]
    }
   ],
   "source": [
    "#Write a Python program which accepts the radius of a circle from the user and compute the area.\n",
    "from math import pi\n",
    "radius = float(input(\"Enter the radius of the circle? \"))\n",
    "area = pi*(radius**2)\n",
    "print(\"Area of the circle = \", area);"
   ]
  },
  {
   "cell_type": "code",
   "execution_count": 10,
   "id": "285323c9",
   "metadata": {},
   "outputs": [
    {
     "name": "stdout",
     "output_type": "stream",
     "text": [
      "Enter first name : Saman\n",
      "Enter last name : Khan\n",
      "Khan Saman\n"
     ]
    }
   ],
   "source": [
    "#Write a Python program which accepts the user's first and last name and print them in reverse order with a space between them.\n",
    "fName = input(\"Enter first name : \");\n",
    "lName = input(\"Enter last name : \");\n",
    "print(lName + \" \" + fName);"
   ]
  },
  {
   "cell_type": "code",
   "execution_count": 12,
   "id": "ebb79e05",
   "metadata": {},
   "outputs": [
    {
     "name": "stdout",
     "output_type": "stream",
     "text": [
      "Enter first number? 5\n",
      "Enter second number? 5\n",
      "5.0  +  5.0  =  10.0\n"
     ]
    }
   ],
   "source": [
    "#Write a python program which takes two inputs from user and print them addition\n",
    "num1 = float(input(\"Enter first number? \"))\n",
    "num2 = float(input(\"Enter second number? \"))\n",
    "num = num1 + num2\n",
    "print(num1, \" + \", num2, \" = \", num)"
   ]
  },
  {
   "cell_type": "code",
   "execution_count": 23,
   "id": "3da56147",
   "metadata": {},
   "outputs": [
    {
     "name": "stdout",
     "output_type": "stream",
     "text": [
      "Enter marks out of 100? 90\n",
      "Enter marks out of 100? 80\n",
      "Enter marks out of 100? 70\n",
      "Enter marks out of 100? 75\n",
      "Enter marks out of 100? 85\n",
      "Percentage :  80.0\n",
      "Grade = A\n"
     ]
    }
   ],
   "source": [
    "#Write a program which takes 5 inputs from user for different subject’s marks, total it and generate mark sheet using grades?\n",
    "marks = list()\n",
    "for i in range(5):\n",
    "    mark = float(input(\"Enter marks out of 100? \"))\n",
    "    marks.append(mark)\n",
    "    \n",
    "percentage = ((sum(marks))*100)/500\n",
    "print(\"Percentage : \", percentage)\n",
    "if 0 <= percentage <= 100:\n",
    "    if percentage <= 100 and percentage > 80:\n",
    "        print(\"Grade = A+\")\n",
    "    elif percentage >= 80 and percentage > 70:\n",
    "        print(\"Grade = A\")\n",
    "    elif percentage >= 70 and percentage > 60:\n",
    "        print(\"Grade = B\")\n",
    "    elif percentage >= 60 and percentage > 50:\n",
    "        print(\"Grade = C\")\n",
    "    elif percentage >= 50 and percentage > 40:\n",
    "        print(\"Grade = D\")\n",
    "    elif percentage >= 40 and percentage > 33:\n",
    "        print(\"Grade = E\")\n",
    "    else:\n",
    "        print(\"Fail\")\n",
    "else:\n",
    "    print(\"Error, invalid percentage!\")"
   ]
  },
  {
   "cell_type": "code",
   "execution_count": 24,
   "id": "a9798090",
   "metadata": {},
   "outputs": [
    {
     "name": "stdout",
     "output_type": "stream",
     "text": [
      "Enter a number : 15\n",
      "The number you entered is an odd number.\n"
     ]
    }
   ],
   "source": [
    "#Write a program which take input from user and identify that the given number is even or odd?\n",
    "num = int(input(\"Enter a number : \"))\n",
    "if num%2==0:\n",
    "    print(\"The number you entered is an even number.\")\n",
    "else:\n",
    "    print(\"The number you entered is an odd number.\")"
   ]
  },
  {
   "cell_type": "code",
   "execution_count": 25,
   "id": "b3e314dd",
   "metadata": {},
   "outputs": [
    {
     "name": "stdout",
     "output_type": "stream",
     "text": [
      "Lenght of list is :  5\n"
     ]
    }
   ],
   "source": [
    "lst = [1,2,3,4,'saman']\n",
    "print(\"Lenght of list is : \", len(lst))"
   ]
  },
  {
   "cell_type": "code",
   "execution_count": 26,
   "id": "634e1290",
   "metadata": {},
   "outputs": [
    {
     "name": "stdout",
     "output_type": "stream",
     "text": [
      "Sum of all the element in the list is :  55\n"
     ]
    }
   ],
   "source": [
    "#10.Write a Python program to sum all the numeric items in a list?\n",
    "lst = [1,2,3,4,5,6,7,8,9,10]\n",
    "print(\"Sum of all the element in the list is : \", sum(lst))"
   ]
  },
  {
   "cell_type": "code",
   "execution_count": 27,
   "id": "223f3010",
   "metadata": {},
   "outputs": [
    {
     "name": "stdout",
     "output_type": "stream",
     "text": [
      "Largest element in the list is :  10\n"
     ]
    }
   ],
   "source": [
    "#11.Write a Python program to get the largest number from a numeric list.\n",
    "lst = [1,2,3,4,5,6,7,8,9,10]\n",
    "print(\"Largest element in the list is : \", max(lst))"
   ]
  },
  {
   "cell_type": "code",
   "execution_count": 28,
   "id": "ace964bc",
   "metadata": {},
   "outputs": [
    {
     "name": "stdout",
     "output_type": "stream",
     "text": [
      "1\n",
      "1\n",
      "2\n",
      "3\n"
     ]
    }
   ],
   "source": [
    "#Take a list, say for example this one: a = [1, 1, 2, 3, 5, 8, 13, 21, 34, 55, 89]\n",
    "#Write a program that prints out all the elements of the list that are less than 5.\n",
    "a = [1, 1, 2, 3, 5, 8, 13, 21, 34, 55, 89]\n",
    "for i in a:\n",
    "    if i<5:\n",
    "        print(i)"
   ]
  },
  {
   "cell_type": "code",
   "execution_count": null,
   "id": "237d02a6",
   "metadata": {},
   "outputs": [],
   "source": []
  }
 ],
 "metadata": {
  "kernelspec": {
   "display_name": "Python 3",
   "language": "python",
   "name": "python3"
  },
  "language_info": {
   "codemirror_mode": {
    "name": "ipython",
    "version": 3
   },
   "file_extension": ".py",
   "mimetype": "text/x-python",
   "name": "python",
   "nbconvert_exporter": "python",
   "pygments_lexer": "ipython3",
   "version": "3.8.8"
  }
 },
 "nbformat": 4,
 "nbformat_minor": 5
}
